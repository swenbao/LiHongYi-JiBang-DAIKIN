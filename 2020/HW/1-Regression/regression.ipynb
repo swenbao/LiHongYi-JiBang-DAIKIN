{
 "cells": [
  {
   "cell_type": "markdown",
   "metadata": {},
   "source": [
    "# Homework 1: Linear Regression"
   ]
  },
  {
   "cell_type": "markdown",
   "metadata": {},
   "source": [
    "本次目標：由前 9 個小時的 18 個 features (包含 PM2.5)預測的 10 個小時的 PM2.5。\n",
    "若有任何問題，歡迎來信至助教信箱 ntu-ml-2020spring-ta@googlegroups.com"
   ]
  },
  {
   "cell_type": "markdown",
   "metadata": {},
   "source": [
    "# **Load 'train.csv'**\n",
    "train.csv 的資料為 12 個月中，每個月取 20 天，每天 24 小時的資料(每小時資料有 18 個 features)。"
   ]
  },
  {
   "cell_type": "code",
   "execution_count": 2,
   "metadata": {},
   "outputs": [],
   "source": [
    "import sys  # Import the sys module for system-specific parameters and functions\n",
    "import pandas as pd  # Import pandas for data manipulation\n",
    "import numpy as np  # Import numpy for numerical operations\n",
    "# from google.colab import drive  # Import drive module from google.colab for Google Drive operations\n",
    "\n",
    "# Download the dataset from Google Drive using its unique ID and save it as 'data.zip'\n",
    "# !gdown --id '1wNKAxQ29G15kgpBy_asjTcZRRgmsCZRm' --output data.zip\n",
    "\n",
    "# Unzip the downloaded 'data.zip' file to access the dataset\n",
    "# !unzip data.zip\n",
    "\n",
    "# 因為我不是在 google colab 上執行，所以不需要使用 google drive\n",
    "# 我直接下載 train.csv 到本地端，所以不需要使用 gdown 這個套件\n",
    "\n",
    "# Read the CSV file 'train.csv' using pandas, assuming the file is encoded in 'big5' encoding\n",
    "# data = pd.read_csv('gdrive/My Drive/hw1-regression/train.csv', header = None, encoding = 'big5')\n",
    "data = pd.read_csv('./data/train.csv', encoding = 'big5')\n"
   ]
  },
  {
   "cell_type": "markdown",
   "metadata": {},
   "source": [
    "把 data 印出來看看"
   ]
  },
  {
   "cell_type": "code",
   "execution_count": 3,
   "metadata": {},
   "outputs": [
    {
     "name": "stdout",
     "output_type": "stream",
     "text": [
      "<class 'pandas.core.frame.DataFrame'>\n",
      "              日期  測站          測項     0     1     2     3     4     5     6  \\\n",
      "0       2014/1/1  豐原    AMB_TEMP    14    14    14    13    12    12    12   \n",
      "1       2014/1/1  豐原         CH4   1.8   1.8   1.8   1.8   1.8   1.8   1.8   \n",
      "2       2014/1/1  豐原          CO  0.51  0.41  0.39  0.37  0.35   0.3  0.37   \n",
      "3       2014/1/1  豐原        NMHC   0.2  0.15  0.13  0.12  0.11  0.06   0.1   \n",
      "4       2014/1/1  豐原          NO   0.9   0.6   0.5   1.7   1.8   1.5   1.9   \n",
      "...          ...  ..         ...   ...   ...   ...   ...   ...   ...   ...   \n",
      "4315  2014/12/20  豐原         THC   1.8   1.8   1.8   1.8   1.8   1.7   1.7   \n",
      "4316  2014/12/20  豐原       WD_HR    46    13    61    44    55    68    66   \n",
      "4317  2014/12/20  豐原  WIND_DIREC    36    55    72   327    74    52    59   \n",
      "4318  2014/12/20  豐原  WIND_SPEED   1.9   2.4   1.9   2.8   2.3   1.9   2.1   \n",
      "4319  2014/12/20  豐原       WS_HR   0.7   0.8   1.8     1   1.9   1.7   2.1   \n",
      "\n",
      "      ...    14    15    16    17    18    19    20    21    22    23  \n",
      "0     ...    22    22    21    19    17    16    15    15    15    15  \n",
      "1     ...   1.8   1.8   1.8   1.8   1.8   1.8   1.8   1.8   1.8   1.8  \n",
      "2     ...  0.37  0.37  0.47  0.69  0.56  0.45  0.38  0.35  0.36  0.32  \n",
      "3     ...   0.1  0.13  0.14  0.23  0.18  0.12   0.1  0.09   0.1  0.08  \n",
      "4     ...   2.5   2.2   2.5   2.3   2.1   1.9   1.5   1.6   1.8   1.5  \n",
      "...   ...   ...   ...   ...   ...   ...   ...   ...   ...   ...   ...  \n",
      "4315  ...   1.8   1.8     2   2.1     2   1.9   1.9   1.9     2     2  \n",
      "4316  ...    59   308   327    21   100   109   108   114   108   109  \n",
      "4317  ...    18   311    52    54   121    97   107   118   100   105  \n",
      "4318  ...   2.3   2.6   1.3     1   1.5     1   1.7   1.5     2     2  \n",
      "4319  ...   1.3   1.7   0.7   0.4   1.1   1.4   1.3   1.6   1.8     2  \n",
      "\n",
      "[4320 rows x 27 columns]\n",
      "\n",
      "===========\n",
      "\n",
      "日期    2014/1/1\n",
      "測站          豐原\n",
      "測項    AMB_TEMP\n",
      "0           14\n",
      "1           14\n",
      "2           14\n",
      "3           13\n",
      "4           12\n",
      "5           12\n",
      "6           12\n",
      "7           12\n",
      "8           15\n",
      "9           17\n",
      "10          20\n",
      "11          22\n",
      "12          22\n",
      "13          22\n",
      "14          22\n",
      "15          22\n",
      "16          21\n",
      "17          19\n",
      "18          17\n",
      "19          16\n",
      "20          15\n",
      "21          15\n",
      "22          15\n",
      "23          15\n",
      "Name: 0, dtype: object\n"
     ]
    }
   ],
   "source": [
    "print(type(data))\n",
    "print(data)\n",
    "print()\n",
    "print(\"===========\")\n",
    "print()\n",
    "print(data.iloc[0])"
   ]
  },
  {
   "cell_type": "markdown",
   "metadata": {},
   "source": [
    "# **Preprocessing** \n",
    "取需要的數值部分，將 'RAINFALL' 欄位全部補 0。\n",
    "另外，如果要在 colab 重覆這段程式碼的執行，請從頭開始執行(把上面的都重新跑一次)，以避免跑出不是自己要的結果（若自己寫程式不會遇到，但 colab 重複跑這段會一直往下取資料。意即第一次取原本資料的第三欄之後的資料，第二次取第一次取的資料掉三欄之後的資料，...）。"
   ]
  },
  {
   "cell_type": "code",
   "execution_count": 4,
   "metadata": {},
   "outputs": [],
   "source": [
    "data = data.iloc[:, 3:]\n",
    "data[data == 'NR'] = 0\n",
    "raw_data = data.to_numpy()"
   ]
  },
  {
   "cell_type": "markdown",
   "metadata": {},
   "source": [
    "印出 `raw_data` 看看"
   ]
  },
  {
   "cell_type": "code",
   "execution_count": 5,
   "metadata": {},
   "outputs": [
    {
     "name": "stdout",
     "output_type": "stream",
     "text": [
      "[['14' '14' '14' ... '15' '15' '15']\n",
      " ['1.8' '1.8' '1.8' ... '1.8' '1.8' '1.8']\n",
      " ['0.51' '0.41' '0.39' ... '0.35' '0.36' '0.32']\n",
      " ...\n",
      " ['36' '55' '72' ... '118' '100' '105']\n",
      " ['1.9' '2.4' '1.9' ... '1.5' '2' '2']\n",
      " ['0.7' '0.8' '1.8' ... '1.6' '1.8' '2']]\n",
      "<class 'numpy.ndarray'>\n",
      "['14' '14' '14' '13' '12' '12' '12' '12' '15' '17' '20' '22' '22' '22'\n",
      " '22' '22' '21' '19' '17' '16' '15' '15' '15' '15']\n",
      "<class 'numpy.ndarray'>\n",
      "14\n",
      "<class 'str'>\n"
     ]
    }
   ],
   "source": [
    "print(raw_data)\n",
    "print(type(raw_data))\n",
    "print(raw_data[0])\n",
    "print(type(raw_data[0]))\n",
    "print(raw_data[0][2])\n",
    "print(type(raw_data[0][2]))\n",
    "# raw_data 是一個 2D numpy.ndarray\n",
    "# 其中每一個元素都是一個 string"
   ]
  },
  {
   "cell_type": "markdown",
   "metadata": {},
   "source": [
    "# **Extract Features (1)**\n",
    "![圖片說明](./explain_imgs/download.png)\n",
    "![圖片說明](./explain_imgs/ex.png)\n",
    "![自己畫的圖片說明](./explain_imgs/self-ex.jpeg)\n",
    "\n",
    "將原始 4320 * 18 的資料依照每個月分重組成 12 個 18 (features) * 480 (hours) 的資料。 "
   ]
  },
  {
   "cell_type": "code",
   "execution_count": 6,
   "metadata": {},
   "outputs": [],
   "source": [
    "month_data = {}\n",
    "for month in range(12): # 12 months\n",
    "    sample = np.empty([18, 480]) # 18 features, 20 days * 24 hoursm, np.empty() default dtype is float64\n",
    "    for day in range(20):\n",
    "        sample[:, day * 24 : (day + 1) * 24] = raw_data[18 * (20 * month + day) : 18 * (20 * month + day + 1), :] # implicit type conversion\n",
    "    month_data[month] = sample"
   ]
  },
  {
   "cell_type": "markdown",
   "metadata": {},
   "source": [
    "把 `month_data` 印出來看看"
   ]
  },
  {
   "cell_type": "code",
   "execution_count": 7,
   "metadata": {},
   "outputs": [
    {
     "name": "stdout",
     "output_type": "stream",
     "text": [
      "{0: array([[14.  , 14.  , 14.  , ..., 14.  , 13.  , 13.  ],\n",
      "       [ 1.8 ,  1.8 ,  1.8 , ...,  1.8 ,  1.8 ,  1.8 ],\n",
      "       [ 0.51,  0.41,  0.39, ...,  0.34,  0.41,  0.43],\n",
      "       ...,\n",
      "       [35.  , 79.  ,  2.4 , ..., 48.  , 63.  , 53.  ],\n",
      "       [ 1.4 ,  1.8 ,  1.  , ...,  1.1 ,  1.9 ,  1.9 ],\n",
      "       [ 0.5 ,  0.9 ,  0.6 , ...,  1.2 ,  1.2 ,  1.3 ]]), 1: array([[ 15.  ,  14.  ,  14.  , ...,   8.4 ,   8.  ,   7.6 ],\n",
      "       [  1.8 ,   1.8 ,   1.7 , ...,   1.7 ,   1.7 ,   1.7 ],\n",
      "       [  0.27,   0.26,   0.25, ...,   0.36,   0.35,   0.32],\n",
      "       ...,\n",
      "       [113.  , 109.  , 104.  , ...,  72.  ,  65.  ,  69.  ],\n",
      "       [  2.3 ,   2.2 ,   2.6 , ...,   1.9 ,   2.9 ,   1.5 ],\n",
      "       [  2.5 ,   2.2 ,   2.2 , ...,   0.9 ,   1.6 ,   1.1 ]]), 2: array([[ 18.  ,  18.  ,  18.  , ...,  14.  ,  13.  ,  13.  ],\n",
      "       [  1.8 ,   1.8 ,   1.8 , ...,   1.8 ,   1.8 ,   1.8 ],\n",
      "       [  0.39,   0.36,   0.4 , ...,   0.42,   0.47,   0.49],\n",
      "       ...,\n",
      "       [103.  , 128.  , 115.  , ...,  60.  ,  94.  ,  53.  ],\n",
      "       [  1.7 ,   1.4 ,   1.8 , ...,   4.2 ,   3.5 ,   4.3 ],\n",
      "       [  1.9 ,   0.8 ,   1.5 , ...,   3.1 ,   2.4 ,   2.4 ]]), 3: array([[ 19.  ,  18.  ,  17.  , ...,  24.  ,  24.  ,  23.  ],\n",
      "       [  1.7 ,   1.7 ,   1.7 , ...,   1.8 ,   1.8 ,   1.9 ],\n",
      "       [  0.42,   0.42,   0.42, ...,   0.41,   0.46,   0.42],\n",
      "       ...,\n",
      "       [308.  , 308.  , 320.  , ..., 331.  , 261.  , 273.  ],\n",
      "       [  1.7 ,   2.2 ,   2.  , ...,   1.  ,   1.  ,   0.8 ],\n",
      "       [  1.5 ,   1.5 ,   1.2 , ...,   0.6 ,   1.1 ,   0.9 ]]), 4: array([[1.90e+01, 1.90e+01, 2.00e+01, ..., 2.60e+01, 2.60e+01, 2.50e+01],\n",
      "       [1.80e+00, 1.80e+00, 1.80e+00, ..., 1.60e+00, 1.60e+00, 1.60e+00],\n",
      "       [4.80e-01, 4.70e-01, 4.50e-01, ..., 1.50e-01, 1.50e-01, 1.30e-01],\n",
      "       ...,\n",
      "       [2.90e+02, 6.90e+01, 2.50e+02, ..., 1.74e+02, 1.95e+02, 1.69e+02],\n",
      "       [1.50e+00, 1.90e+00, 1.70e+00, ..., 3.10e+00, 3.10e+00, 2.90e+00],\n",
      "       [4.00e-01, 5.00e-01, 1.00e+00, ..., 2.90e+00, 2.40e+00, 3.10e+00]]), 5: array([[2.60e+01, 2.50e+01, 2.50e+01, ..., 2.70e+01, 2.70e+01, 2.80e+01],\n",
      "       [1.70e+00, 1.70e+00, 1.70e+00, ..., 1.60e+00, 1.60e+00, 1.60e+00],\n",
      "       [3.50e-01, 3.40e-01, 3.40e-01, ..., 2.60e-01, 1.90e-01, 1.60e-01],\n",
      "       ...,\n",
      "       [1.18e+02, 1.22e+02, 1.19e+02, ..., 1.16e+02, 1.59e+02, 1.62e+02],\n",
      "       [1.60e+00, 1.40e+00, 1.30e+00, ..., 1.70e+00, 1.00e+00, 2.40e+00],\n",
      "       [1.50e+00, 1.50e+00, 1.30e+00, ..., 1.30e+00, 1.30e+00, 1.70e+00]]), 6: array([[2.60e+01, 2.50e+01, 2.60e+01, ..., 2.80e+01, 2.80e+01, 2.80e+01],\n",
      "       [1.60e+00, 1.60e+00, 1.60e+00, ..., 1.60e+00, 1.60e+00, 1.70e+00],\n",
      "       [1.40e-01, 1.30e-01, 1.30e-01, ..., 3.10e-01, 3.00e-01, 2.70e-01],\n",
      "       ...,\n",
      "       [1.06e+02, 1.24e+02, 1.17e+02, ..., 1.27e+02, 1.33e+02, 1.72e+02],\n",
      "       [1.60e+00, 1.80e+00, 1.20e+00, ..., 1.60e+00, 1.40e+00, 1.70e+00],\n",
      "       [2.00e+00, 2.20e+00, 1.70e+00, ..., 1.70e+00, 1.30e+00, 1.60e+00]]), 7: array([[2.80e+01, 2.80e+01, 2.80e+01, ..., 2.60e+01, 2.60e+01, 2.60e+01],\n",
      "       [1.60e+00, 1.60e+00, 1.60e+00, ..., 1.70e+00, 1.70e+00, 1.70e+00],\n",
      "       [2.60e-01, 2.00e-01, 1.60e-01, ..., 1.60e-01, 1.40e-01, 1.30e-01],\n",
      "       ...,\n",
      "       [2.04e+02, 1.77e+02, 1.72e+02, ..., 1.68e+02, 1.80e+02, 1.62e+02],\n",
      "       [2.90e+00, 2.80e+00, 2.70e+00, ..., 2.90e+00, 2.80e+00, 2.50e+00],\n",
      "       [3.00e+00, 2.80e+00, 2.70e+00, ..., 3.10e+00, 2.90e+00, 2.50e+00]]), 8: array([[ 25.  ,  25.  ,  25.  , ...,  26.  ,  26.  ,  26.  ],\n",
      "       [  1.7 ,   1.7 ,   1.7 , ...,   1.6 ,   1.6 ,   1.7 ],\n",
      "       [  0.28,   0.27,   0.26, ...,   0.28,   0.24,   0.23],\n",
      "       ...,\n",
      "       [ 98.  , 109.  , 108.  , ..., 163.  ,  71.  ,  55.  ],\n",
      "       [  1.8 ,   1.9 ,   1.1 , ...,   1.2 ,   1.1 ,   0.7 ],\n",
      "       [  1.4 ,   1.9 ,   1.7 , ...,   3.4 ,   1.  ,   0.7 ]]), 9: array([[ 25.  ,  25.  ,  25.  , ...,  23.  ,  22.  ,  22.  ],\n",
      "       [  1.7 ,   1.7 ,   1.7 , ...,   1.8 ,   1.7 ,   1.7 ],\n",
      "       [  0.24,   0.26,   0.27, ...,   0.42,   0.35,   0.26],\n",
      "       ...,\n",
      "       [ 72.  , 100.  ,  68.  , ..., 109.  , 110.  , 107.  ],\n",
      "       [  1.1 ,   1.4 ,   1.1 , ...,   2.2 ,   2.4 ,   2.5 ],\n",
      "       [  1.8 ,   1.2 ,   0.9 , ...,   2.1 ,   2.2 ,   2.3 ]]), 10: array([[ 22.  ,  21.  ,  21.  , ...,  19.  ,  18.  ,  18.  ],\n",
      "       [  1.9 ,   1.9 ,   1.9 , ...,   1.7 ,   1.7 ,   1.7 ],\n",
      "       [  0.79,   0.71,   0.61, ...,   0.36,   0.36,   0.37],\n",
      "       ...,\n",
      "       [100.  , 117.  , 110.  , ..., 117.  , 117.  , 114.  ],\n",
      "       [  1.1 ,   1.9 ,   1.7 , ...,   2.1 ,   2.2 ,   1.9 ],\n",
      "       [  0.7 ,   1.1 ,   1.2 , ...,   1.8 ,   2.1 ,   1.9 ]]), 11: array([[ 23.  ,  23.  ,  23.  , ...,  13.  ,  13.  ,  13.  ],\n",
      "       [  1.6 ,   1.7 ,   1.7 , ...,   1.8 ,   1.8 ,   1.8 ],\n",
      "       [  0.22,   0.2 ,   0.18, ...,   0.51,   0.57,   0.56],\n",
      "       ...,\n",
      "       [ 93.  ,  50.  ,  99.  , ..., 118.  , 100.  , 105.  ],\n",
      "       [  1.8 ,   2.1 ,   3.2 , ...,   1.5 ,   2.  ,   2.  ],\n",
      "       [  1.3 ,   0.9 ,   1.  , ...,   1.6 ,   1.8 ,   2.  ]])}\n",
      "<class 'dict'>\n",
      "<class 'numpy.ndarray'>\n",
      "(18, 480)\n",
      "<class 'numpy.ndarray'>\n",
      "(480,)\n",
      "<class 'numpy.float64'>\n"
     ]
    }
   ],
   "source": [
    "print(month_data)\n",
    "print(type(month_data))\n",
    "print(type(month_data[0]))\n",
    "print(month_data[0].shape)\n",
    "print(type(month_data[0][0]))\n",
    "print(month_data[0][0].shape)\n",
    "print(type(month_data[0][0][0]))"
   ]
  },
  {
   "cell_type": "markdown",
   "metadata": {},
   "source": [
    "# **Extract Features (2)**\n",
    "![alt text](./explain_imgs/ex2.png)\n",
    "![alt text](./explain_imgs/download-2.png)\n",
    "![](./explain_imgs/extract2.jpg)\n",
    "\n",
    "每個月會有 480hrs，每 9 小時形成一個 data，每個月會有 471 個 data，故總資料數為 471 * 12 筆，而每筆 data 有 9 * 18 的 features (一小時 18 個 features * 9 小時)。\n",
    "\n",
    "對應的 target 則有 471 * 12 個(第 10 個小時的 PM2.5)"
   ]
  },
  {
   "cell_type": "markdown",
   "metadata": {},
   "source": [
    "一個月有 471 筆資料怎麼算的\n",
    "\n",
    "先算一個月有幾個小時：\n",
    "$24 \\frac{個小時}{天}\\times20 \\frac{天}{月} = 480 個小時$\n",
    "\n",
    "***最後一個小時為 20 號的 23.***\n",
    "\n",
    "10 個小時為一筆資料，包到最後一包為 20 號 14.~23.\n",
    "\n",
    "即 第 (20-1)*24 + 14 = 470 hr 到 第 (20-1)*24 + 23 = 479 hr"
   ]
  },
  {
   "cell_type": "code",
   "execution_count": 8,
   "metadata": {},
   "outputs": [
    {
     "name": "stdout",
     "output_type": "stream",
     "text": [
      "[[14.  14.  14.  ...  2.   2.   0.5]\n",
      " [14.  14.  13.  ...  2.   0.5  0.3]\n",
      " [14.  13.  12.  ...  0.5  0.3  0.8]\n",
      " ...\n",
      " [17.  18.  19.  ...  1.1  1.4  1.3]\n",
      " [18.  19.  18.  ...  1.4  1.3  1.6]\n",
      " [19.  18.  17.  ...  1.3  1.6  1.8]]\n",
      "[[30.]\n",
      " [41.]\n",
      " [44.]\n",
      " ...\n",
      " [17.]\n",
      " [24.]\n",
      " [29.]]\n"
     ]
    }
   ],
   "source": [
    "x = np.empty([12 * 471, 18 * 9], dtype = float)\n",
    "y = np.empty([12 * 471, 1], dtype = float)\n",
    "for month in range(12):\n",
    "    for day in range(20):\n",
    "        for hour in range(24):\n",
    "            if day == 19 and hour > 14: # 第 20 天的最後第 14 小時是最後一筆資料，因為 10 小時為一組資料， 14 + 9 = 23 剛好在 0. ~ 23. 範圍內\n",
    "                continue\n",
    "            # 每個月有 471 組資料，所以 day 跟 hour 跑完一輪就是 471 組資料\n",
    "            x[month * 471 + day * 24 + hour, :] = month_data[month][:,day * 24 + hour : day * 24 + hour + 9].reshape(1, -1) #vector dim:18*9 (9 9 9 9 9 9 9 9 9 9 9 9 9 9 9 9 9 9)\n",
    "            y[month * 471 + day * 24 + hour, 0] = month_data[month][9, day * 24 + hour + 9] #value\n",
    "print(x)\n",
    "print(y)"
   ]
  },
  {
   "cell_type": "markdown",
   "metadata": {},
   "source": [
    "# **Standardize (1)**"
   ]
  },
  {
   "cell_type": "markdown",
   "metadata": {},
   "source": [
    "[standardization vs nomalization](https://www.youtube.com/watch?v=bqhQ2LWBheQ)\n",
    "\n",
    "這是一個議題喔 關鍵字就是 standardization vs nomalization\n",
    "\n",
    "Gradient Calculation 要 standardize/nomalize 避免某項的影響蓋過另一項"
   ]
  },
  {
   "cell_type": "code",
   "execution_count": 9,
   "metadata": {},
   "outputs": [
    {
     "data": {
      "text/plain": [
       "array([[-1.35825331, -1.35883937, -1.359222  , ...,  0.26650729,\n",
       "         0.2656797 , -1.14082131],\n",
       "       [-1.35825331, -1.35883937, -1.51819928, ...,  0.26650729,\n",
       "        -1.13963133, -1.32832904],\n",
       "       [-1.35825331, -1.51789368, -1.67717656, ..., -1.13923451,\n",
       "        -1.32700613, -0.85955971],\n",
       "       ...,\n",
       "       [-0.88092053, -0.72262212, -0.56433559, ..., -0.57693779,\n",
       "        -0.29644471, -0.39079039],\n",
       "       [-0.7218096 , -0.56356781, -0.72331287, ..., -0.29578943,\n",
       "        -0.39013211, -0.1095288 ],\n",
       "       [-0.56269867, -0.72262212, -0.88229015, ..., -0.38950555,\n",
       "        -0.10906991,  0.07797893]])"
      ]
     },
     "execution_count": 9,
     "metadata": {},
     "output_type": "execute_result"
    }
   ],
   "source": [
    "mean_x = np.mean(x, axis = 0) #18 * 9 \n",
    "std_x = np.std(x, axis = 0) #18 * 9 \n",
    "for i in range(len(x)): #12 * 471\n",
    "    for j in range(len(x[0])): #18 * 9 \n",
    "        if std_x[j] != 0:\n",
    "            x[i][j] = (x[i][j] - mean_x[j]) / std_x[j]\n",
    "x"
   ]
  },
  {
   "cell_type": "markdown",
   "metadata": {},
   "source": [
    "我的疑問：\n",
    "\n",
    "So we don't standardize a feature if its deviation is 0??\n",
    "I know that it's because we can't divided by 0\n",
    "but we might then have some feature that is not standardized, wouldn't it affect the result?\n",
    "\n",
    "ChatGPT4 回答：\n",
    "\n",
    "You're correct in noting that the code skips standardization for features with a standard deviation of 0 to avoid division by zero. A standard deviation of 0 means that all values in the feature are identical. When this occurs, subtracting the mean (which is equal to any of the values since they're all the same) results in a feature where all values are 0. Standardizing such a feature (i.e., scaling it to have a mean of 0 and a standard deviation of 1) is not meaningful because the feature doesn't vary—it provides no information that could help differentiate between observations.\n",
    "\n",
    "Having some features not standardized while others are can indeed affect the results of certain machine learning algorithms, especially those sensitive to the scale of the data, such as gradient descent-based methods, k-nearest neighbors, and support vector machines. These algorithms might not perform optimally if the features are on vastly different scales.\n",
    "\n",
    "In practice, if a feature has a standard deviation of 0 (and thus no variance), it's often considered a constant feature and might be removed from the dataset before training a model because:\n",
    "\n",
    "1. **It doesn't contribute to the model's predictive power**: Since all values are the same, the feature doesn't help the model differentiate between different observations.\n",
    "2. **It can cause computational issues**: As you mentioned, dividing by zero is undefined, leading to potential errors or infinite values during computation.\n",
    "\n",
    "However, before removing such features, it's essential to understand the data and context to ensure that the feature is indeed not informative and not just an artifact of the dataset at hand. In some cases, a feature might appear constant due to issues with data collection or a limited dataset scope but could vary in a broader or different dataset.\n",
    "\n",
    "看來這邊只是選一個簡單作法，並沒有 Optimized。以作業的角度來想非常合理"
   ]
  },
  {
   "cell_type": "markdown",
   "metadata": {},
   "source": [
    "# **Split Training Data Into \"train_set\" and \"validation_set\"**\n",
    "這部分是針對作業中 report 的第二題、第三題做的簡單示範，以生成比較中用來訓練的 train_set 和不會被放入訓練、只是用來驗證的 validation_set。"
   ]
  },
  {
   "cell_type": "code",
   "execution_count": 10,
   "metadata": {},
   "outputs": [
    {
     "name": "stdout",
     "output_type": "stream",
     "text": [
      "[[-1.35825331 -1.35883937 -1.359222   ...  0.26650729  0.2656797\n",
      "  -1.14082131]\n",
      " [-1.35825331 -1.35883937 -1.51819928 ...  0.26650729 -1.13963133\n",
      "  -1.32832904]\n",
      " [-1.35825331 -1.51789368 -1.67717656 ... -1.13923451 -1.32700613\n",
      "  -0.85955971]\n",
      " ...\n",
      " [ 0.86929969  0.70886668  0.38952809 ...  1.39110073  0.2656797\n",
      "  -0.39079039]\n",
      " [ 0.71018876  0.39075806  0.07157353 ...  0.26650729 -0.39013211\n",
      "  -0.39079039]\n",
      " [ 0.3919669   0.07264944  0.07157353 ... -0.38950555 -0.39013211\n",
      "  -0.85955971]]\n",
      "[[30.]\n",
      " [41.]\n",
      " [44.]\n",
      " ...\n",
      " [ 7.]\n",
      " [ 5.]\n",
      " [14.]]\n",
      "[[ 0.07374504  0.07264944  0.07157353 ... -0.38950555 -0.85856912\n",
      "  -0.57829812]\n",
      " [ 0.07374504  0.07264944  0.23055081 ... -0.85808615 -0.57750692\n",
      "   0.54674825]\n",
      " [ 0.07374504  0.23170375  0.23055081 ... -0.57693779  0.54674191\n",
      "  -0.1095288 ]\n",
      " ...\n",
      " [-0.88092053 -0.72262212 -0.56433559 ... -0.57693779 -0.29644471\n",
      "  -0.39079039]\n",
      " [-0.7218096  -0.56356781 -0.72331287 ... -0.29578943 -0.39013211\n",
      "  -0.1095288 ]\n",
      " [-0.56269867 -0.72262212 -0.88229015 ... -0.38950555 -0.10906991\n",
      "   0.07797893]]\n",
      "[[13.]\n",
      " [24.]\n",
      " [22.]\n",
      " ...\n",
      " [17.]\n",
      " [24.]\n",
      " [29.]]\n",
      "4521\n",
      "4521\n",
      "1131\n",
      "1131\n"
     ]
    }
   ],
   "source": [
    "import math\n",
    "x_train_set = x[: math.floor(len(x) * 0.8), :]\n",
    "y_train_set = y[: math.floor(len(y) * 0.8), :]\n",
    "x_validation = x[math.floor(len(x) * 0.8): , :]\n",
    "y_validation = y[math.floor(len(y) * 0.8): , :]\n",
    "print(x_train_set)\n",
    "print(y_train_set)\n",
    "print(x_validation)\n",
    "print(y_validation)\n",
    "print(len(x_train_set))\n",
    "print(len(y_train_set))\n",
    "print(len(x_validation))\n",
    "print(len(y_validation))"
   ]
  },
  {
   "cell_type": "markdown",
   "metadata": {},
   "source": [
    "# **Training**\n",
    "![alt text](./explain_imgs/reg.png)\n",
    "![alt text](./explain_imgs/ada.png)\n",
    "![alt text](./explain_imgs/adapseu.png)\n",
    "\n",
    "(和上圖不同處: 下面的 code 採用 Root Mean Square Error)\n",
    "\n",
    "因為常數項的存在，所以 dimension (dim) 需要多加一欄；eps 項是避免 adagrad 的分母為 0 而加的極小數值。\n",
    "\n",
    "每一個 dimension (dim) 會對應到各自的 gradient, weight (w)，透過一次次的 iteration (iter_time) 學習。"
   ]
  }
 ],
 "metadata": {
  "kernelspec": {
   "display_name": "movenet-iMBcv_ks-py3.11",
   "language": "python",
   "name": "python3"
  },
  "language_info": {
   "codemirror_mode": {
    "name": "ipython",
    "version": 3
   },
   "file_extension": ".py",
   "mimetype": "text/x-python",
   "name": "python",
   "nbconvert_exporter": "python",
   "pygments_lexer": "ipython3",
   "version": "3.12.1"
  }
 },
 "nbformat": 4,
 "nbformat_minor": 2
}
